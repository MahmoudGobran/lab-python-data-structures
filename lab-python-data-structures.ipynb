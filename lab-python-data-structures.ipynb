{
 "cells": [
  {
   "cell_type": "markdown",
   "metadata": {
    "tags": []
   },
   "source": [
    "# Lab | Data Structures "
   ]
  },
  {
   "cell_type": "markdown",
   "metadata": {},
   "source": [
    "## Exercise: Managing Customer Orders\n",
    "\n",
    "As part of a business venture, you are starting an online store that sells various products. To ensure smooth operations, you need to develop a program that manages customer orders and inventory.\n",
    "\n",
    "Follow the steps below to complete the exercise:\n",
    "\n",
    "1. Define a list called `products` that contains the following items: \"t-shirt\", \"mug\", \"hat\", \"book\", \"keychain\".\n",
    "\n",
    "2. Create an empty dictionary called `inventory`.\n",
    "\n",
    "3. Ask the user to input the quantity of each product available in the inventory. Use the product names from the `products` list as keys in the `inventory` dictionary and assign the respective quantities as values.\n",
    "\n",
    "4. Create an empty set called `customer_orders`.\n",
    "\n",
    "5. Ask the user to input the name of three products that a customer wants to order (from those in the products list, meaning three products out of \"t-shirt\", \"mug\", \"hat\", \"book\" or \"keychain\". Add each product name to the `customer_orders` set.\n",
    "\n",
    "6. Print the products in the `customer_orders` set.\n",
    "\n",
    "7. Calculate the following order statistics:\n",
    "   - Total Products Ordered: The total number of products in the `customer_orders` set.\n",
    "   - Percentage of Products Ordered: The percentage of products ordered compared to the total available products.\n",
    "   \n",
    "   Store these statistics in a tuple called `order_status`.\n",
    "\n",
    "8. Print the order statistics using the following format:\n",
    "   ```\n",
    "   Order Statistics:\n",
    "   Total Products Ordered: <total_products_ordered>\n",
    "   Percentage of Products Ordered: <percentage_ordered>% \n",
    "   ```\n",
    "\n",
    "9. Update the inventory by subtracting 1 from the quantity of each product. Modify the `inventory` dictionary accordingly.\n",
    "\n",
    "10. Print the updated inventory, displaying the quantity of each product on separate lines.\n",
    "\n",
    "Solve the exercise by implementing the steps using the Python concepts of lists, dictionaries, sets, and basic input/output operations. "
   ]
  },
  {
   "cell_type": "code",
   "execution_count": 19,
   "metadata": {},
   "outputs": [
    {
     "name": "stdout",
     "output_type": "stream",
     "text": [
      "[1, 2, 3, 4, 5]\n",
      "{'hat', 'mug', 'book'}\n",
      "Number of Unique Products Ordered: 3\n",
      "Percentage of Products Ordered: 60.0\n",
      "\n",
      "Order Statistics:\n",
      "Total Products Ordered: 3\n",
      "Percentage of Products Ordered: 60.0%\n",
      "\n",
      "Updated Inventory:\n",
      "t-shirt: 1\n",
      "mug: 1\n",
      "hat: 2\n",
      "book: 3\n",
      "keychain: 5\n"
     ]
    }
   ],
   "source": [
    "#Managing Customer Orders\n",
    "products = [\"t-shirt\", \"mug\", \"hat\", \"book\", \"keychain\"] #List of avilable items\n",
    "inventory = {} #empty dictionary\n",
    "#Asking the user to input the quantity of each available item\n",
    "quantity= [int(input(\"Please input the quantity of  \" + products[0]+ \":\")), \n",
    "           int(input(\"Please input the quantity of  \" + products[1]+ \":\")), \n",
    "           int(input(\"Please input the quantity of  \" + products[2]+ \":\")), \n",
    "           int(input(\"Please input the quantity of  \" + products[3]+ \":\")), \n",
    "           int(input(\"Please input the quantity of  \" + products[4]+ \":\")) ]\n",
    "print(quantity)\n",
    "#dictionary with assign respective quantities \n",
    "inventory_quantity={products[0]: quantity[0],\n",
    "                    products[1]: quantity[1],\n",
    "                    products[2]: quantity[2],\n",
    "                    products[3]: quantity[3],\n",
    "                    products[4]: quantity[4]} \n",
    "\n",
    "inventory_quantity # printing the inventory_quantity \n",
    "customer_orders= set() #empty set\n",
    "Order1 = input(\"Pls enter first product: \")\n",
    "Order2 = input(\"Pls enter second product: \")\n",
    "Order3 = input(\"Pls enter third product: \")\n",
    "\n",
    "# Add each product to the empty set\n",
    "customer_orders.add(Order1)\n",
    "customer_orders.add(Order2)\n",
    "customer_orders.add(Order3)\n",
    "\n",
    "print(customer_orders) #Print the products in the `customer_orders` set\n",
    "number_of_product_orderd =len(customer_orders)\n",
    "print(\"Number of Unique Products Ordered:\", number_of_product_orderd)\n",
    "percentage_ordered = (number_of_product_orderd * 100) / len(products)\n",
    "print(\"Percentage of Products Ordered:\", percentage_ordered)\n",
    "\n",
    "order_status = [number_of_product_orderd, percentage_ordered]\n",
    "\n",
    "print(\"\\nOrder Statistics:\")\n",
    "print(\"Total Products Ordered:\", order_status[0])\n",
    "print(\"Percentage of Products Ordered:\", str(order_status[1]) + \"%\")\n",
    "\n",
    "updated_inventory = {\n",
    "    products[0]: quantity[0] - (Order1 == products[0]) - (Order2 == products[0]) - (Order3 == products[0]),\n",
    "    products[1]: quantity[1] - (Order1 == products[1]) - (Order2 == products[1]) - (Order3 == products[1]),\n",
    "    products[2]: quantity[2] - (Order1 == products[2]) - (Order2 == products[2]) - (Order3 == products[2]),\n",
    "    products[3]: quantity[3] - (Order1 == products[3]) - (Order2 == products[3]) - (Order3 == products[3]),\n",
    "    products[4]: quantity[4] - (Order1 == products[4]) - (Order2 == products[4]) - (Order3 == products[4])\n",
    "}\n",
    "\n",
    "# Print updated inventory\n",
    "print(\"\\nUpdated Inventory:\")\n",
    "print(products[0] + \":\", updated_inventory[products[0]])\n",
    "print(products[1] + \":\", updated_inventory[products[1]])\n",
    "print(products[2] + \":\", updated_inventory[products[2]])\n",
    "print(products[3] + \":\", updated_inventory[products[3]])\n",
    "print(products[4] + \":\", updated_inventory[products[4]])"
   ]
  },
  {
   "cell_type": "code",
   "execution_count": null,
   "metadata": {},
   "outputs": [],
   "source": [
    "3\n",
    "4"
   ]
  }
 ],
 "metadata": {
  "kernelspec": {
   "display_name": "base",
   "language": "python",
   "name": "python3"
  },
  "language_info": {
   "codemirror_mode": {
    "name": "ipython",
    "version": 3
   },
   "file_extension": ".py",
   "mimetype": "text/x-python",
   "name": "python",
   "nbconvert_exporter": "python",
   "pygments_lexer": "ipython3",
   "version": "3.12.4"
  }
 },
 "nbformat": 4,
 "nbformat_minor": 4
}
